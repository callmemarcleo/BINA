{
 "cells": [
  {
   "cell_type": "markdown",
   "metadata": {},
   "source": [
    "# Step 1\n",
    "## Defning objectives and information needs\n",
    "Wie können Airbnb-Vermieter in Zürich ihre Preisstrategie optimieren und welche Stadtteile bieten das größte Potenzial für neue Airbnb-Angebote?\n",
    "### Objectives\n",
    "- Identifikation optimaler Mietpreise für verschiedene Stadtteile und Unterkunftsarten.\n",
    "- Ermittlung von Stadtteilen mit hohem Wachstumspotenzial für neue Airbnb-Angebote.\n",
    "- Ableitung von Handlungsempfehlungen für bestehende und neue Vermieter zur Maximierung der Buchungsrate und Einnahmen.\n",
    "### Information needs\n",
    "1. ~ Airbnb Daten\n",
    "2. Öffentliche Geodaten & Stadtinformationen"
   ]
  },
  {
   "cell_type": "markdown",
   "metadata": {},
   "source": [
    "# Step 2\n",
    "## Collecting data"
   ]
  },
  {
   "cell_type": "markdown",
   "metadata": {},
   "source": [
    "# Step 3\n",
    "## Analyzing data"
   ]
  },
  {
   "cell_type": "markdown",
   "metadata": {},
   "source": [
    "# Step 4\n",
    "## Presenting information"
   ]
  },
  {
   "cell_type": "markdown",
   "metadata": {},
   "source": [
    "# Step 5\n",
    "## Making data-driven decisions"
   ]
  }
 ],
 "metadata": {
  "language_info": {
   "name": "python"
  }
 },
 "nbformat": 4,
 "nbformat_minor": 2
}
