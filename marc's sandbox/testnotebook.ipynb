{
 "cells": [
  {
   "metadata": {},
   "cell_type": "raw",
   "source": [
    "from airbnb_analysis_service import AirbnbAnalysisService\n",
    "import pandas as pd\n",
    "import matplotlib.pyplot as plt\n",
    "\n",
    "if __name__ == \"__main__\":\n",
    "    # create service class\n",
    "    airbnbAnalysis = AirbnbAnalysisService()\n",
    "\n",
    "    # get all tables in form of a list\n",
    "    listings = airbnbAnalysis.get_listings()\n",
    "\n",
    "    # Schritt 1: Umwandeln in DataFrames\n",
    "    listings_df = pd.DataFrame([l.__dict__ for l in listings])\n",
    "\n",
    "    # Schritt 2: Daten aufbereiten\n",
    "    listings_df['price'] = pd.to_numeric(listings_df['price'], errors='coerce').fillna(0)\n",
    "    listings_df['number_of_reviews'] = pd.to_numeric(listings_df['number_of_reviews'], errors='coerce')\n",
    "    listings_df['availability_365'] = pd.to_numeric(listings_df['availability_365'], errors='coerce')\n",
    "\n",
    "    # Schritt 3: Gruppieren nach Stadtteil (\"neighbourhood_group_cleansed\")\n",
    "    grouped = listings_df.groupby('neighbourhood_group_cleansed').agg({\n",
    "        'price': 'mean',\n",
    "        'availability_365': 'mean',\n",
    "        'number_of_reviews': 'mean',\n",
    "        'id': 'count'\n",
    "    }).rename(columns={'id': 'listings_count'}).reset_index()\n",
    "\n",
    "    # Schritt 4: Ausgabe der Metriken\n",
    "    print(\"\\nDurchschnittswerte pro Stadtteil (neighbourhood_group_cleansed):\\n\")\n",
    "    print(grouped.sort_values('price', ascending=False))\n",
    "\n",
    "    # Schritt 5: Visualisierung\n",
    "    plt.figure(figsize=(12, 6))\n",
    "    plt.bar(grouped['neighbourhood_group_cleansed'], grouped['price'])\n",
    "    plt.xticks(rotation=45)\n",
    "    plt.ylabel(\"Durchschnittlicher Preis (CHF)\")\n",
    "    plt.title(\"⭑ Durchschnittlicher Airbnb Preis je Stadtteil in Zürich\")\n",
    "    plt.tight_layout()\n",
    "    plt.show()\n",
    "\n",
    "    plt.figure(figsize=(12, 6))\n",
    "    plt.bar(grouped['neighbourhood_group_cleansed'], grouped['availability_365'], color='orange')\n",
    "    plt.xticks(rotation=45)\n",
    "    plt.ylabel(\"Verfügbare Tage pro Jahr\")\n",
    "    plt.title(\"📅 Durchschnittliche Verfügbarkeit je Stadtteil\")\n",
    "    plt.tight_layout()\n",
    "    plt.show()"
   ]
  },
  {
   "metadata": {},
   "cell_type": "code",
   "outputs": [],
   "execution_count": null,
   "source": ""
  }
 ],
 "metadata": {
  "language_info": {
   "name": "python"
  }
 },
 "nbformat": 4,
 "nbformat_minor": 2
}
