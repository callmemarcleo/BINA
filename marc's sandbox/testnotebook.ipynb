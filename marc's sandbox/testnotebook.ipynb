{
 "cells": [
  {
   "metadata": {},
   "cell_type": "markdown",
   "source": ""
  },
  {
   "metadata": {
    "ExecuteTime": {
     "end_time": "2025-05-12T06:34:27.014580Z",
     "start_time": "2025-05-12T06:34:23.671004Z"
    }
   },
   "cell_type": "code",
   "source": [
    "from airbnb_analysis_service import AirbnbAnalysisService\n",
    "import pandas as pd\n",
    "import matplotlib.pyplot as plt\n",
    "\n",
    "if __name__ == \"__main__\":\n",
    "    # create service class\n",
    "    airbnbAnalysis = AirbnbAnalysisService()\n",
    "\n",
    "    # get all tables in form of a list\n",
    "    listings = airbnbAnalysis.get_listings()\n",
    "\n",
    "    # Schritt 1: Umwandeln in DataFrames\n",
    "    listings_df = pd.DataFrame([l.__dict__ for l in listings])\n",
    "\n",
    "    # Schritt 2: Daten aufbereiten\n",
    "    listings_df['price'] = pd.to_numeric(listings_df['price'], errors='coerce').fillna(0)\n",
    "    listings_df['number_of_reviews'] = pd.to_numeric(listings_df['number_of_reviews'], errors='coerce')\n",
    "    listings_df['availability_365'] = pd.to_numeric(listings_df['availability_365'], errors='coerce')\n",
    "\n",
    "    # Schritt 3: Gruppieren nach Stadtteil (\"neighbourhood_group_cleansed\")\n",
    "    grouped = listings_df.groupby('neighbourhood_group_cleansed').agg({\n",
    "        'price': 'mean',\n",
    "        'availability_365': 'mean',\n",
    "        'number_of_reviews': 'mean',\n",
    "        'id': 'count'\n",
    "    }).rename(columns={'id': 'listings_count'}).reset_index()\n",
    "\n",
    "    # Schritt 4: Ausgabe der Metriken\n",
    "    print(\"\\nDurchschnittswerte pro Stadtteil (neighbourhood_group_cleansed):\\n\")\n",
    "    print(grouped.sort_values('price', ascending=False))"
   ],
   "outputs": [
    {
     "name": "stdout",
     "output_type": "stream",
     "text": [
      "\n",
      "Durchschnittswerte pro Stadtteil (neighbourhood_group_cleansed):\n",
      "\n",
      "   neighbourhood_group_cleansed  price  availability_365  number_of_reviews  \\\n",
      "0                       Kreis 1    0.0        206.168142         128.035398   \n",
      "1                      Kreis 10    0.0        124.456522          46.521739   \n",
      "2                      Kreis 11    0.0        199.452830          43.150943   \n",
      "3                      Kreis 12    0.0        175.000000          12.500000   \n",
      "4                       Kreis 2    0.0        180.208955          63.074627   \n",
      "5                       Kreis 3    0.0        175.320388          86.611650   \n",
      "6                       Kreis 4    0.0        178.964912         103.666667   \n",
      "7                       Kreis 5    0.0        207.736842          51.807018   \n",
      "8                       Kreis 6    0.0        153.478873          51.633803   \n",
      "9                       Kreis 7    0.0        174.401786          56.794643   \n",
      "10                      Kreis 8    0.0        159.046154          58.230769   \n",
      "11                      Kreis 9    0.0        224.626667          42.333333   \n",
      "\n",
      "    listings_count  \n",
      "0              113  \n",
      "1               46  \n",
      "2              106  \n",
      "3                6  \n",
      "4               67  \n",
      "5              103  \n",
      "6              114  \n",
      "7               57  \n",
      "8               71  \n",
      "9              112  \n",
      "10             130  \n",
      "11              75  \n"
     ]
    }
   ],
   "execution_count": 3
  },
  {
   "metadata": {},
   "cell_type": "raw",
   "source": "",
   "outputs": null,
   "execution_count": null
  },
  {
   "metadata": {},
   "cell_type": "code",
   "outputs": [],
   "execution_count": null,
   "source": [
    "\n",
    "\n",
    "    # Schritt 5: Visualisierung\n",
    "    plt.figure(figsize=(12, 6))\n",
    "    plt.bar(grouped['neighbourhood_group_cleansed'], grouped['price'])\n",
    "    plt.xticks(rotation=45)\n",
    "    plt.ylabel(\"Durchschnittlicher Preis (CHF)\")\n",
    "    plt.title(\"⭑ Durchschnittlicher Airbnb Preis je Stadtteil in Zürich\")\n",
    "    plt.tight_layout()\n",
    "    plt.show()\n",
    "\n",
    "    plt.figure(figsize=(12, 6))\n",
    "    plt.bar(grouped['neighbourhood_group_cleansed'], grouped['availability_365'], color='orange')\n",
    "    plt.xticks(rotation=45)\n",
    "    plt.ylabel(\"Verfügbare Tage pro Jahr\")\n",
    "    plt.title(\"📅 Durchschnittliche Verfügbarkeit je Stadtteil\")\n",
    "    plt.tight_layout()\n",
    "    plt.show()"
   ]
  }
 ],
 "metadata": {
  "language_info": {
   "name": "python"
  }
 },
 "nbformat": 4,
 "nbformat_minor": 2
}
