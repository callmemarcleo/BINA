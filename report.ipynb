{
 "cells": [
  {
   "cell_type": "markdown",
   "metadata": {},
   "source": [
    "# Einleitung\n",
    "**Datengetriebene Analyse zur Optimierung von Airbnb-Investitionen im DACH-Raum**\n",
    "Die vorliegende Fallstudie untersucht die Anwendung von Data-Driven Decision Making (DDDM) zur Optimierung von Investitionsstrategien im Airbnb-Markt der Stadt Zürich. In einem zunehmend wettbewerbsintensiven Umfeld für Kurzzeitvermietungen ist es für Investoren entscheidend, datengestützte Entscheidungen zu treffen, um die Rentabilität zu maximieren und Risiken zu minimieren.\n",
    "\n",
    "Dieses Projekt zielt darauf ab, die Prinzipien des DDDM anzuwenden, um einem hypothetischen Investor bei der Beantwortung zentraler Fragen in Bezug auf Marktpotenzial, Preisgestaltung, Wettbewerbsanalyse, Rentabilität und Risikomanagement in Zürich zu helfen. Durch die detaillierte Analyse von Airbnb-Daten und die Integration relevanter externer Datenquellen werden wir umsetzbare Empfehlungen entwickeln, die Investitionsentscheidungen im dynamischen Zürcher Markt für Kurzzeitvermietungen unterstützen.\n",
    "\n",
    "Der Bericht ist wie folgt strukturiert: Zunächst definieren wir die Ziele und Informationsbedürfnisse des Investors (Schritt 1). Anschließend beschreiben wir den Prozess der Datenerhebung und -aufbereitung (Schritt 2), gefolgt von einer Erläuterung der angewandten Analysemethoden (Schritt 3). Abschließend präsentieren wir die Ergebnisse der Analyse und leiten konkrete Handlungsempfehlungen für den Investor ab (Schritt 4)."
   ]
  },
  {
   "cell_type": "markdown",
   "metadata": {},
   "source": [
    "# Step 1: Defining objectives and information needs\n",
    "Wie können Airbnb-Vermieter in Zürich ihre Preisstrategie optimieren und welche Stadtteile bieten das größte Potenzial für neue Airbnb-Angebote?\n",
    "\n",
    "**Objectives**\n",
    "1. Wo in Zürich sind die Airbnb-\"Hotspots\" bezüglich Preisniveau und Nachfrage?\n",
    "2. Welcher Unterkunftstyp (z.B. ganze Wohnung vs. Zimmer, Anzahl Schlafzimmer) ist in welchen Zürcher Stadtteilen am häufigsten vertreten und scheint am gefragtesten zu sein?\n",
    "3. Welche Faktoren beeinflussen den Preis eines Airbnb-Listings am stärksten?\n",
    "4. Wie unterscheiden sich Superhosts von normalen Hosts in Bezug auf Preis, Auslastung und Bewertungen?\n",
    "\n",
    "\n",
    "**Information needs**"
   ]
  },
  {
   "cell_type": "markdown",
   "metadata": {},
   "source": [
    "# Step 2: Collecting data\n",
    "\n",
    "### Inside Airbnb\n",
    "\n",
    "**Datasets**\n",
    "- `listings.csv.gz`: Detailed Listings data\n",
    "- `calendar.csv.gz`: Detailed Calendar Data\n",
    "- `reviews.csv.gz`: Detailed Review Data\n",
    "- `listings.csv`: Summary information and metrics for listings in Zurich (good for visualisations)\n",
    "- `reviews.csv`: Summary Review data and Listing ID (to facilitate time-based analytics and visualisations linked to a listing)\n",
    "- `neighbourhoods.csv`: Neighbourhood list for geo filter. Sourced from city or open source GIS files\n",
    "- `neighbourhoods.geojson`: GeoJSON file of neighbourhoods of the city\n",
    "\n",
    "**Variablen**\n",
    "- `id`\n",
    "- `listing_url`\n",
    "- `scrape_id`\n",
    "- `last_scraped`\n",
    "- `source`\n",
    "- `name`\n",
    "- `description`\n",
    "- `neighborhood_overview`\n",
    "- `picture_url`\n",
    "- `host_id`\n",
    "- `host_url`\n",
    "- `host_name`\n",
    "- `host_since`\n",
    "- `host_location`\n",
    "- `host_about`\n",
    "- `host_response_time`\n",
    "- `host_response_rate`\n",
    "- `host_acceptance_rate`\n",
    "- `host_is_superhost`\n",
    "- `host_thumbnail_url`\n",
    "- `host_picture_url`\n",
    "- `host_neighbourhood`\n",
    "- `host_listings_count`\n",
    "- `host_total_listings_count`\n",
    "- `host_verifications`\n",
    "- `host_has_profile_pic`\n",
    "- `host_identity_verified`\n",
    "- `neighbourhood`\n",
    "- `neighbourhood_cleansed`\n",
    "- `neighbourhood_group_cleansed`\n",
    "- `latitude`\n",
    "- `longitude`\n",
    "- `property_type`\n",
    "- `room_type`\n",
    "- `accommodates`\n",
    "- `bathrooms`\n",
    "- `bathrooms_text`\n",
    "- `bedrooms`\n",
    "- `beds`\n",
    "- `amenities`\n",
    "- `price`\n",
    "- `minimum_nights`\n",
    "- `maximum_nights`\n",
    "- `minimum_minimum_nights`\n",
    "- `maximum_minimum_nights`\n",
    "- `minimum_maximum_nights`\n",
    "- `maximum_maximum_nights`\n",
    "- `minimum_nights_avg_ntm`\n",
    "- `maximum_nights_avg_ntm`\n",
    "- `calendar_updated`\n",
    "- `has_availability`\n",
    "- `availability_30`\n",
    "- `availability_60`\n",
    "- `availability_90`\n",
    "- `availability_365`\n",
    "- `calendar_last_scraped`\n",
    "- `number_of_reviews`\n",
    "- `number_of_reviews_ltm`\n",
    "- `number_of_reviews_l30d`\n",
    "- `first_review`\n",
    "- `last_review`\n",
    "- `review_scores_rating`\n",
    "- `review_scores_accuracy`\n",
    "- `review_scores_cleanliness`\n",
    "- `review_scores_checkin`\n",
    "- `review_scores_communication`\n",
    "- `review_scores_location`\n",
    "- `review_scores_value`\n",
    "- `license`\n",
    "- `instant_bookable`\n",
    "- `calculated_host_listings_count`\n",
    "- `calculated_host_listings_count_entire_homes`\n",
    "- `calculated_host_listings_count_private_rooms`\n",
    "- `calculated_host_listings_count_shared_rooms`\n",
    "- `reviews_per_month`"
   ]
  },
  {
   "cell_type": "markdown",
   "metadata": {},
   "source": [
    "# Step 3\n",
    "### Analyzing data"
   ]
  },
  {
   "cell_type": "markdown",
   "metadata": {},
   "source": [
    "# Step 4\n",
    "### Presenting information"
   ]
  },
  {
   "cell_type": "markdown",
   "metadata": {},
   "source": [
    "# Step 5\n",
    "### Making data-driven decisions"
   ]
  }
 ],
 "metadata": {
  "language_info": {
   "name": "python"
  }
 },
 "nbformat": 4,
 "nbformat_minor": 2
}
