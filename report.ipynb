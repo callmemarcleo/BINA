{
 "cells": [
  {
   "cell_type": "markdown",
   "metadata": {},
   "source": [
    "# Step 1\n",
    "## Defning objectives and information needs\n",
    "Wie können Airbnb-Vermieter in Zürich ihre Preisstrategie optimieren und welche Stadtteile bieten das größte Potenzial für neue Airbnb-Angebote?\n",
    "### Objectives\n",
    "- Identifikation optimaler Mietpreise für verschiedene Stadtteile und Unterkunftsarten.\n",
    "- Ermittlung von Stadtteilen mit hohem Wachstumspotenzial für neue Airbnb-Angebote.\n",
    "- Ableitung von Handlungsempfehlungen für bestehende und neue Vermieter zur Maximierung der Buchungsrate und Einnahmen.\n",
    "### Information needs\n",
    "1. ~ Airbnb Daten\n",
    "\n",
    "3. Öffentliche Geodaten & Stadtinformationen\n",
    "\n",
    "\n",
    "1. Durchschnittlicher Übernachtungspreis pro Gebiet\n",
    "Zeigt, wo hohe Preise verlangt werden → gut für Pricing-Strategien oder Investmententscheidungen.\n",
    "Formel: Durchschnitt von price je nach Gebiet (neighbourhood_cleansed oder Geo-Buckets)\n",
    "Mögliche Erweiterung: nach Zimmerkategorie (room_type) filtern.\n",
    "2. Anzahl an verfügbaren Unterkünften pro Gebiet\n",
    "Zeigt, wo viele oder wenige Anbieter sind → gut um Marktsättigung zu erkennen.\n",
    "Kannst du mit availability_365 kombinieren → wie oft ist eine Unterkunft wirklich buchbar?\n",
    "Ziel: Orte mit hohem Preis & wenig Konkurrenz finden.\n",
    "3. Durchschnittliche Bewertung pro Gebiet\n",
    "Mit review_scores_rating → zeigt die Zufriedenheit der Gäste pro Region.\n",
    "Das kann Hinweise geben, ob die Region z. B. sicher, ruhig, sauber usw. ist.\n",
    "Hilfreich für Investoren, weil gute Bewertung = höhere Wiederbuchungsrate."
   ]
  },
  {
   "cell_type": "markdown",
   "metadata": {},
   "source": [
    "# Step 2\n",
    "## Collecting data"
   ]
  },
  {
   "cell_type": "markdown",
   "metadata": {},
   "source": [
    "# Step 3\n",
    "## Analyzing data"
   ]
  },
  {
   "cell_type": "markdown",
   "metadata": {},
   "source": [
    "# Step 4\n",
    "## Presenting information"
   ]
  },
  {
   "cell_type": "markdown",
   "metadata": {},
   "source": [
    "# Step 5\n",
    "## Making data-driven decisions"
   ]
  }
 ],
 "metadata": {
  "language_info": {
   "name": "python"
  }
 },
 "nbformat": 4,
 "nbformat_minor": 2
}
